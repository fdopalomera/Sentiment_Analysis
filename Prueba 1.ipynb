{
 "cells": [
  {
   "cell_type": "markdown",
   "metadata": {},
   "source": [
    "# 1. Preliminares"
   ]
  },
  {
   "cell_type": "markdown",
   "metadata": {},
   "source": [
    "## 1.1 Descripción del problema"
   ]
  },
  {
   "cell_type": "markdown",
   "metadata": {},
   "source": [
    "Se nos presenta una base de datos con 30.000 tweets y el sentimiento asociado a cada uno de estos. La base contiene 2 columnas, \"content\" y \"sentiment\", la primera corresponde al tweet, y la segunda al sentimiento asociado a este. Cabe destacar que existen 13 tipos de sentimientos difrentes, los cuales se deben clasificar en 2 tipos, positivos y negativos. Con esta información debemos generar 5 modelos de clasificación que nos permitan al momento de entregar o ingresar un nuevo tweet predecir si este está asociado a un sentimiento positivo o negativo. Una vez listos los modelos se debe evaluar cual o de estos nos entregan el mejor resultado, considerando para ello los resultados obtenidos mediante las metricas de evaluación de problemas de clasifición, tales como Recall Precision, F1 y área bajo la curva ROC."
   ]
  },
  {
   "cell_type": "markdown",
   "metadata": {},
   "source": [
    "## 1.2 Objetivos"
   ]
  },
  {
   "cell_type": "markdown",
   "metadata": {},
   "source": [
    "* Crear un modelo predictivo de clasificación que nos permita predecir con la mayor exactitud posible si un tweet está asociado a un sentimiento positivo o negativo."
   ]
  },
  {
   "cell_type": "markdown",
   "metadata": {},
   "source": [
    "## 1.3 Implementación"
   ]
  },
  {
   "cell_type": "markdown",
   "metadata": {},
   "source": [
    "* 1 - Leemos mediante pd.read la base \"training_tweets\"\n",
    "* 2 - Eliminamos la columna \"Unnamed: 0\"\n",
    "* 3 - Realizamos un análisis exploratorio del vector objetivo \"sentiment\".\n",
    "* 4 - Recodificamos el vector objetivo \"sentiment\", agrupando los 13 difrentes tipos de sentimientos existentes entre prositivos y negativos según lo indicado, considerando para esto la distribución del sentimiento \"neutral\" de forma aleatorea entre positivo y negativo.\n",
    "* 5- Una vez recodificado el vector objetivo \"sentiment\", lo binarizamos mediante la clase LabelEncoder.\n",
    "* 6 - Generaremos una función llamada \"txt_preprocessor\", la cual realizará una limpieza del texto entregado, cambiando todas las letras a minúscula y eliminando todos aquellos caracteres que no sean letras, esta queda alojada en archivo auxiliar funciones.py\n",
    "* 7 - Tokenizamos los tweets para realizar el proceso de normalización de texto mediante lematización.\n",
    "* 8 - Vectorizaremos cada tweet mediante CountVectorizer, definiremos aquellas palabras que no se consideraran mediante stopwords y proprocesamos el texto con la función \"txt_preprocessor\".\n",
    "* 9 - Realizamos el fit_transform a la columna \"content\".\n",
    "* 10 - Generamos un DataFrame llamado df_tweets, que contiene los vectores de las palabras con sus respectivos nombres.\n",
    "* 11 - Realizamos la división de muestras de entrenamiento y validación, en donde nuestro vector objetivo (y) correspondera a la columna binarizada \"sentiment\", y los atributos (X) a todas los columnas de df_tweets.\n",
    "* 12 - Implementaremos 5 modelos de clasificación a los cuales se le realizará una busqueda de grilla para encontrar los mejores hiperparametros para cada uno de ellos.\n",
    "* 13 - Una vez implementados los 5 modelos, obtendremos las métricas de desempeño para cada uno de ellos (Recall Precision, F1 y área bajo la curva ROC), en base a estos resultados, escogeremos los 2 modelos que presenten el mejor (desepeño).\n",
    "* 14 - Serializamos los 2 modelos escogidos bajo la siguiente nomenclatura nombre_grupomodelo-1 y nombre_grupo-modelo-2 y los enviamos a evaluación."
   ]
  },
  {
   "cell_type": "markdown",
   "metadata": {},
   "source": [
    "## 1.4 Criterios de optimización y métricas de desempeño"
   ]
  },
  {
   "cell_type": "markdown",
   "metadata": {},
   "source": [
    "Para evaluar los modelos de clasificación se utilizarán principalmente las siguientes métricas:\n",
    "* __Precision__: exactitud del modelo para predecir una clase, en porcentaje.\n",
    "* __Recall__: capacidad del modelo de recordar las etiquetas reales, en porcentaje.\n",
    "* __F1__: promedio entre precision y recall, que penaliza diferencias entre las métricas\n",
    "* __ROC_AUC__ (valor del área bajo la curva ROC): métrica que captura las distintas combinaciones de TPR Y FPR posibles de alcznar, resumiendo en un valor que va de 0 a 1 la capacidad del modelo en predecir las etiquetas correctamente. "
   ]
  },
  {
   "cell_type": "markdown",
   "metadata": {},
   "source": [
    "# 2. Aspectos Computacionales"
   ]
  },
  {
   "cell_type": "code",
   "execution_count": 1,
   "metadata": {},
   "outputs": [
    {
     "name": "stderr",
     "output_type": "stream",
     "text": [
      "[nltk_data] Downloading package punkt to /Users/fernando/nltk_data...\n",
      "[nltk_data]   Package punkt is already up-to-date!\n",
      "[nltk_data] Downloading package stopwords to\n",
      "[nltk_data]     /Users/fernando/nltk_data...\n",
      "[nltk_data]   Package stopwords is already up-to-date!\n",
      "[nltk_data] Downloading package wordnet to\n",
      "[nltk_data]     /Users/fernando/nltk_data...\n",
      "[nltk_data]   Package wordnet is already up-to-date!\n"
     ]
    },
    {
     "data": {
      "text/plain": [
       "True"
      ]
     },
     "execution_count": 1,
     "metadata": {},
     "output_type": "execute_result"
    }
   ],
   "source": [
    "# Numpy: librería escencial para procesos matemáticos utilizados en data science\n",
    "import numpy as np\n",
    "# Pandas: librería para la creación y manipulación de estructura de datos\n",
    "import pandas as pd\n",
    "# Matplotlib: librería basada en Matlab, utilizada para realizar gráficos en 2D\n",
    "import matplotlib.pyplot as plt\n",
    "# Seaborn: librería avanzada para gráficos\n",
    "import seaborn as sns\n",
    "# Función para visualizar de forma gráfica los valores perdidos\n",
    "from missingno import matrix\n",
    "# Importación de funciones creadas \n",
    "import funciones as fn\n",
    "\n",
    "# Importación de función para respuesta aleatoria\n",
    "from random import choice\n",
    "# Librería para funciones con expresiones regulares\n",
    "import re\n",
    "# Librería con funciones asociadas al tipo de dato 'string'\n",
    "import string\n",
    "# Librería para serialzación\n",
    "import pickle\n",
    "# Importación de Pipeline y transdormadores para el preproceso\n",
    "from sklearn.pipeline import Pipeline\n",
    "from sklearn.feature_selection import SelectKBest\n",
    "from sklearn.preprocessing import FunctionTransformer\n",
    "from sklearn.decomposition import PCA\n",
    "\n",
    "# Clase para instanciar modelos de Keras como objetos de scikit-learn\n",
    "from tensorflow.keras.wrappers.scikit_learn import KerasClassifier\n",
    "# Regularizador para neuronas\n",
    "from tensorflow.keras.regularizers import l2\n",
    "# Arquitectura secuencial para modelos de redes neuronales\n",
    "from tensorflow.keras.models import Sequential\n",
    "# Clase para conexciónes densamente pobladas\n",
    "from tensorflow.keras.layers import Dense\n",
    "\n",
    "# Clase para instanciar vectorizador CountVectorizer y TfidfVectorizer\n",
    "from sklearn.feature_extraction.text import CountVectorizer, TfidfVectorizer\n",
    "# Clase para realizar una codificación de variable categórica\n",
    "from sklearn.preprocessing import LabelEncoder\n",
    "\n",
    "# Clase para instanciar modelo de Random Forest\n",
    "from sklearn.ensemble import RandomForestClassifier\n",
    "# Clase para instanciar modelo de Gradient Boosting\n",
    "from xgboost import XGBClassifier\n",
    "# Clase para instanciar modelo de Regresión lógistica\n",
    "from sklearn.linear_model import LogisticRegression\n",
    "# Clase para instanciar modelo de support vector machine\n",
    "from sklearn.svm import SVC\n",
    "# Importación de métricas para problemas de clasificación\n",
    "from sklearn.metrics import roc_auc_score, confusion_matrix, classification_report\n",
    "# Clase para instanciar modelo de Naive Bayes para problemas de clasificación binarios\n",
    "from sklearn.naive_bayes import BernoulliNB\n",
    "# Función para estratificación de la muestra\n",
    "from sklearn.model_selection import StratifiedKFold\n",
    "# Clase para realizar busqueda de grilla con validación cruzada\n",
    "from sklearn.model_selection import GridSearchCV\n",
    "# Objeto para instanciar  Regresión Logística\n",
    "from sklearn.linear_model import LogisticRegression\n",
    "\n",
    "\n",
    "# Importación de librerías y funciones para natural lenguage processing\n",
    "import nltk\n",
    "from nltk.corpus import stopwords\n",
    "nltk.download('punkt')\n",
    "nltk.download('stopwords')\n",
    "nltk.download('wordnet')"
   ]
  },
  {
   "cell_type": "code",
   "execution_count": 2,
   "metadata": {},
   "outputs": [],
   "source": [
    "# Estilo gráficos\n",
    "plt.style.use('ggplot')"
   ]
  },
  {
   "cell_type": "markdown",
   "metadata": {},
   "source": [
    "Para que haya consitencia entre las muestras de entrenamiento y de prueba, se opta por unir las bases con el fin de que se realice el preprocesamiento en forma conjunta y, posteriormente, realizar la separación a través de la variable auxiliar `sample`."
   ]
  },
  {
   "cell_type": "code",
   "execution_count": 3,
   "metadata": {},
   "outputs": [
    {
     "name": "stdout",
     "output_type": "stream",
     "text": [
      "Las dimensiones de la base son: 70000 filas y 3 columnas\n"
     ]
    }
   ],
   "source": [
    "# Importación de la base\n",
    "train = pd.read_csv('training_tweets.csv').drop(columns='Unnamed: 0')\n",
    "test = pd.read_csv('text_emotion.csv').drop(columns=['tweet_id', 'author'])\n",
    "# Variable auxiliar \n",
    "train['sample'] = 'train'\n",
    "test['sample'] = 'test'\n",
    "# Unión de las muestras\n",
    "df = pd.concat([train, test], sort=True, ignore_index=True)\n",
    "print('Las dimensiones de la base son: {} filas y {} columnas'.format(df.shape[0], df.shape[1]))"
   ]
  },
  {
   "cell_type": "markdown",
   "metadata": {},
   "source": [
    "# 3. Análisis Exploratorio ex-ante Preproceso"
   ]
  },
  {
   "cell_type": "code",
   "execution_count": 4,
   "metadata": {},
   "outputs": [
    {
     "name": "stdout",
     "output_type": "stream",
     "text": [
      "<class 'pandas.core.frame.DataFrame'>\n",
      "RangeIndex: 70000 entries, 0 to 69999\n",
      "Data columns (total 3 columns):\n",
      "content      70000 non-null object\n",
      "sample       70000 non-null object\n",
      "sentiment    70000 non-null object\n",
      "dtypes: object(3)\n",
      "memory usage: 1.6+ MB\n"
     ]
    }
   ],
   "source": [
    "# Exploración de features y el tipo de datos correspondientes\n",
    "df.info()"
   ]
  },
  {
   "cell_type": "code",
   "execution_count": 5,
   "metadata": {},
   "outputs": [
    {
     "data": {
      "text/plain": [
       "<matplotlib.axes._subplots.AxesSubplot at 0x11c209590>"
      ]
     },
     "execution_count": 5,
     "metadata": {},
     "output_type": "execute_result"
    },
    {
     "data": {
      "image/png": "[encoded data removed]",
      "text/plain": [
       "<Figure size 1800x720 with 2 Axes>"
      ]
     },
     "metadata": {},
     "output_type": "display_data"
    }
   ],
   "source": [
    "# Visión general de datos perdidos\n",
    "matrix(df)"
   ]
  },
  {
   "cell_type": "markdown",
   "metadata": {},
   "source": [
    "__Comentario__: Se puede observar del siguiente gráfico que no existen datos con valores perdidos."
   ]
  },
  {
   "cell_type": "code",
   "execution_count": 6,
   "metadata": {},
   "outputs": [
    {
     "data": {
      "image/png": "[encoded data removed]",
      "text/plain": [
       "<Figure size 864x432 with 1 Axes>"
      ]
     },
     "metadata": {},
     "output_type": "display_data"
    }
   ],
   "source": [
    "# Distribución de 1º Target\n",
    "plt.figure(figsize=(12,6))\n",
    "ax = sns.countplot(x='sentiment', data=df, order=df['sentiment'].value_counts().index)\n",
    "for p in ax.patches:\n",
    "    height = p.get_height()\n",
    "    ax.text(p.get_x()+p.get_width()/2., height + .5,\n",
    "        '{:1.2f}'.format(height/len(df['sentiment'])), ha=\"center\")\n",
    "plt.title('Distribución sentiment antes del preproceso')\n",
    "plt.show()"
   ]
  },
  {
   "cell_type": "markdown",
   "metadata": {},
   "source": [
    "__Comentario:__ Se observa una distribución de \"sentimeintos\" variada y en tanto frecuencias relativas como de clases en los tweets de la base. Cabe destacar la importante proporción (22%) de casos clasificados como neutrales y worry con un 21%. Seguidos estan los sentimientos relacionados a 'happiness' y 'sadness' con un 13% y 'love' que ocupa un 10%, entre un 5% y un 2% tenemos los restantes tipos de sentimientos como 'enthusiasm', 'empty', 'hate', 'relief', 'fun' y 'surprise'. Finalmente los que tenemos en menor cantidad son 'boredom' y 'anger' con menos del 1% de los registros."
   ]
  },
  {
   "cell_type": "markdown",
   "metadata": {},
   "source": [
    "# 4. Feature engineering"
   ]
  },
  {
   "cell_type": "markdown",
   "metadata": {},
   "source": [
    "Las sentimientos descritos anteriormente son clasificados entre ```positive``` y ```negative```, según el diccionario ```emotions```. Dentro de los análisis intermedios, se comprobaron mejores resultados al eliminar las observaciones relacionadas al sentimiento ```neutral```, en vez de clasificar aleatoramiente entre las 2 clasificaciones descritas anteriormente."
   ]
  },
  {
   "cell_type": "code",
   "execution_count": 7,
   "metadata": {},
   "outputs": [
    {
     "name": "stdout",
     "output_type": "stream",
     "text": [
      "0: negative y 1: positive\n"
     ]
    }
   ],
   "source": [
    "# Recodificación de sentimientos entre positivos y negativos\n",
    "emotions = {'worry': 'negative', 'happiness': 'positive', 'sadness': 'negative',\n",
    "              'love': 'positive', 'surprise': 'positive', 'fun': 'positive',\n",
    "              'relief': 'positive', 'hate': 'negative', 'empty': 'negative', \n",
    "              'enthusiasm': 'positive', 'boredom': 'negative', 'anger': 'negative'}\n",
    "         \n",
    "\n",
    "df['sentiment'] = df['sentiment'].replace(emotions)\n",
    "# Borrar las filas con sentimiento 'neutral'\n",
    "df = df[df['sentiment'] != 'neutral'].reset_index()\n",
    "# Aplicamos label encoder\n",
    "lbl_encoder = LabelEncoder()\n",
    "\n",
    "# Codificación\n",
    "df['sentiment'] = lbl_encoder.fit_transform(df['sentiment'])\n",
    "print('0: {} y 1: {}'.format(lbl_encoder.classes_[0], lbl_encoder.classes_[1]))"
   ]
  },
  {
   "cell_type": "markdown",
   "metadata": {},
   "source": [
    "A continuación, se procede con el preprocesamiento de los _tweets_ a través del objecto `CountVectorizer`. Este objeto incialmente toma los _tweets_ de la base, y los preprocesa con la función auxiliar `text_preprocessor` que realiza la tokenización, limpieza y lemmatización de las palabras encontradas en cada observación, para finalmente vectorizar por cada palabra la base completa."
   ]
  },
  {
   "cell_type": "code",
   "execution_count": 8,
   "metadata": {},
   "outputs": [],
   "source": [
    "# Definición de Stop Words\n",
    "custom_stop_words = ['http', 'day']\n",
    "modified_stop_words = stopwords.words('english') + custom_stop_words"
   ]
  },
  {
   "cell_type": "code",
   "execution_count": 9,
   "metadata": {},
   "outputs": [
    {
     "name": "stderr",
     "output_type": "stream",
     "text": [
      "/Users/fernando/miniconda3/lib/python3.7/site-packages/sklearn/feature_extraction/text.py:385: UserWarning: Your stop_words may be inconsistent with your preprocessing. Tokenizing the stop words generated tokens ['doe', 'ha', 'wa'] not in stop_words.\n",
      "  'stop_words.' % sorted(inconsistent))\n"
     ]
    },
    {
     "name": "stdout",
     "output_type": "stream",
     "text": [
      "Matriz dispersa de 54911 filas y 9111 columnas\n"
     ]
    }
   ],
   "source": [
    "# Vectorizción \n",
    "count_vectorizer = CountVectorizer(stop_words=modified_stop_words, \n",
    "                                   preprocessor=fn.text_preprocessor, min_df=4)\n",
    "disp_matrix = count_vectorizer.fit_transform(df['content'])\n",
    "\n",
    "print('Matriz dispersa de {} filas y {} columnas'.format(disp_matrix.shape[0], disp_matrix.shape[1]))"
   ]
  },
  {
   "cell_type": "code",
   "execution_count": 10,
   "metadata": {},
   "outputs": [],
   "source": [
    "# Separación de muestras entre muestra de entrenamiento y validación\n",
    "df_tweets = pd.DataFrame(disp_matrix.toarray(), columns=count_vectorizer.get_feature_names())\n",
    "\n",
    "X = df_tweets\n",
    "y = df['sentiment']\n",
    "train_index = df[df['sample'] == 'train'].index\n",
    "test_index = df[df['sample'] == 'test'].index\n",
    "\n",
    "X_train = df_tweets.loc[train_index, :]\n",
    "X_test = df_tweets.loc[test_index, :]\n",
    "y_train = df['sentiment'][train_index]\n",
    "y_test = df['sentiment'][test_index]"
   ]
  },
  {
   "cell_type": "markdown",
   "metadata": {},
   "source": [
    "# 5. Análisis Exploratorio ex-post Preproceso"
   ]
  },
  {
   "cell_type": "code",
   "execution_count": 11,
   "metadata": {},
   "outputs": [
    {
     "data": {
      "image/png": "[encoded data removed]",
      "text/plain": [
       "<Figure size 576x432 with 1 Axes>"
      ]
     },
     "metadata": {},
     "output_type": "display_data"
    }
   ],
   "source": [
    "# Distribución de 1º Target\n",
    "plt.figure(figsize=(8,6))\n",
    "ax = sns.countplot(x='sentiment', data=df)\n",
    "\n",
    "for p in ax.patches:\n",
    "    height = p.get_height()\n",
    "    ax.text(p.get_x()+p.get_width()/2., height + .5,\n",
    "        '{:1.2f}'.format(height/len(df['sentiment'])), ha=\"center\")\n",
    "plt.title('Distribución sentiment después del preproceso')\n",
    "plt.show()"
   ]
  },
  {
   "cell_type": "markdown",
   "metadata": {},
   "source": [
    "__Comentario:__ Se observa una distribución bastante balanceada entre los tweets asociados a emociones negativas (0) y positivas (1), sienda esta la clase con mayoría con un 51% de la muestra."
   ]
  },
  {
   "cell_type": "code",
   "execution_count": 12,
   "metadata": {},
   "outputs": [
    {
     "data": {
      "image/png": "[encoded data removed]",
      "text/plain": [
       "<Figure size 720x1296 with 1 Axes>"
      ]
     },
     "metadata": {},
     "output_type": "display_data"
    }
   ],
   "source": [
    "# Generar variables con las palabras y sus cantidades\n",
    "words = count_vectorizer.get_feature_names()\n",
    "count_words = disp_matrix.toarray().sum(axis=0)\n",
    "\n",
    "# Creación de DataFrame y posterior orden\n",
    "df_words = pd.DataFrame({'word': words, 'frequency': count_words}).sort_values('frequency', ascending=False)[:100]\n",
    "\n",
    "# Gráfico de las 100 palabras más repetidas\n",
    "plt.figure(figsize=(10,18))\n",
    "sns.barplot(x='frequency', y='word', data=df_words, color='green')\n",
    "plt.title('100 palabras con mayor frecuencia en la base')\n",
    "plt.show()"
   ]
  },
  {
   "cell_type": "code",
   "execution_count": 13,
   "metadata": {},
   "outputs": [
    {
     "name": "stdout",
     "output_type": "stream",
     "text": [
      "\n",
      "1\n",
      " ['love', 'good', 'happy', 'wa', 'mother', 'quot', 'lol', 'like', 'got', 'get', 'thanks', 'time', 'today', 'go', 'great', 'com', 'going', 'see', 'one', 'night', 'haha', 'amp', 'new', 'really', 'fun', 'back', 'know', 'work', 'well', 'im', 'morning', 'oh', 'much', 'hope', 'home', 'mom', 'nice', 'think', 'ha', 'want', 'awesome', 'na', 'last', 'make', 'twitter', 'thank', 'look', 'still', 'best', 'week']\n",
      "\n",
      "0\n",
      " ['wa', 'get', 'go', 'work', 'like', 'got', 'today', 'going', 'im', 'good', 'sad', 'miss', 'really', 'time', 'know', 'one', 'quot', 'feel', 'want', 'back', 'sorry', 'think', 'still', 'need', 'bad', 'na', 'home', 'oh', 'amp', 'hate', 'lol', 'ha', 'night', 'see', 'much', 'well', 'last', 'make', 'wish', 'com', 'suck', 'hope', 'new', 'thing', 'sleep', 'love', 'sick', 'tomorrow', 'gon', 'week']\n"
     ]
    }
   ],
   "source": [
    "# 50 palabras principales por sentimiento\n",
    "fn.get_words(df, 'sentiment', 'content', n_words=50, vectorizer=count_vectorizer)"
   ]
  },
  {
   "cell_type": "markdown",
   "metadata": {},
   "source": [
    "__Comentario:__ Se observan de ambos gráficos la variedad de palabras con mayor frecuencia: en el primer gráfico de manera transversal a toda la base y en el segundo las 50 más repetidas en cada sentimiento. Se observa que a priori hay holgura en mejorar el preproceso y vectorización, habiendo palabras que se repiten en ambas clases (por lo tanto poco informativas) y otras palabras que por su naturaleza es inferible su poca relación con el fenómeno que hay detrás de generar el sentimiento asociado. Este proceso de 'tunning' del preproceso y vectorización se continuará e iterará en las próximas entregas."
   ]
  },
  {
   "cell_type": "markdown",
   "metadata": {},
   "source": [
    "# 6 Modelamiento"
   ]
  },
  {
   "cell_type": "markdown",
   "metadata": {},
   "source": [
    "__Importante__: Al haber más de 9.000 features, los tiempos de entrenamiento del modelo (sobre 800 segundos en una prueba) y los resultados preliminares no justificaron seguir de esta forma el _training_ en los modelos de XGBoost, RandomForest y Support Vector Mahcine. Por lo que se optó realizar un redimiencionamiento de los datos a través de __PCA__, con un número predefinido de 100 componentes.\n",
    "Además, en honor a reducir los tiempos de carga del notebook, se dejó comentado la grilla de hiperparámetros y la instancia del `GridSearchCV` de los 5 modelos, dejandose solo el entrenamiento y métricas del modelo con mejor combinación de hiperparámetros"
   ]
  },
  {
   "cell_type": "code",
   "execution_count": 14,
   "metadata": {},
   "outputs": [],
   "source": [
    "# Estratificación para GridSearchCV\n",
    "strat = StratifiedKFold(n_splits=5, shuffle=True, random_state=123)"
   ]
  },
  {
   "cell_type": "markdown",
   "metadata": {},
   "source": [
    "# 6.1 XGBoost"
   ]
  },
  {
   "cell_type": "markdown",
   "metadata": {},
   "source": [
    "pipe_xgb = Pipeline(steps=[('pca', PCA()), ('xgb', XGBClassifier(n_jobs=-1))])\n",
    "model_params = {'pca__n_components':[50, 100], 'xgb__max_depth': [3, 5, 7]}\n",
    "grid = GridSearchCV(pipe_xgb, model_params, n_jobs=-2)\n",
    "fn.clf_metrics(grid, X_train, y_train, X_test, y_test)"
   ]
  },
  {
   "cell_type": "code",
   "execution_count": 15,
   "metadata": {},
   "outputs": [
    {
     "name": "stdout",
     "output_type": "stream",
     "text": [
      "ROC_Score:\n",
      "0.742\n",
      "Confusion_Matrix:\n",
      "[[12814  3249]\n",
      " [ 4808 10491]]\n",
      "Classification_Report:\n",
      "              precision    recall  f1-score   support\n",
      "\n",
      "           0       0.73      0.80      0.76     16063\n",
      "           1       0.76      0.69      0.72     15299\n",
      "\n",
      "    accuracy                           0.74     31362\n",
      "   macro avg       0.75      0.74      0.74     31362\n",
      "weighted avg       0.74      0.74      0.74     31362\n",
      "\n",
      "Realizado en 34.838s\n"
     ]
    }
   ],
   "source": [
    "xgb_pipe_best = Pipeline(steps=[('pca', PCA(100)), \n",
    "                                ('xgb', XGBClassifier(n_jobs=-1, max_depth=5))])\n",
    "fn.clf_metrics(xgb_pipe_best, X_train, y_train, X_test, y_test)"
   ]
  },
  {
   "cell_type": "markdown",
   "metadata": {},
   "source": [
    "## 6.2 Support Vector Machine"
   ]
  },
  {
   "cell_type": "markdown",
   "metadata": {},
   "source": [
    "# Support Vector Machine\n",
    "svm = SVC(random_state=123)\n",
    "param_grid_svm = {'kernel': ['rbf', 'linear'],\n",
    "             'C': [.5, .7, 1], \n",
    "              'gamma': ['scale', 'auto']}\n",
    "grid_svm = GridSearchCV(svm, param_grid_svm, n_jobs=-1, cv=2)\n",
    "fn.clf_metrics(grid_svm, X_train, y_train, X_test, y_test)"
   ]
  },
  {
   "cell_type": "code",
   "execution_count": 16,
   "metadata": {},
   "outputs": [
    {
     "name": "stdout",
     "output_type": "stream",
     "text": [
      "ROC_Score:\n",
      "0.743\n",
      "Confusion_Matrix:\n",
      "[[13616  2447]\n",
      " [ 5527  9772]]\n",
      "Classification_Report:\n",
      "              precision    recall  f1-score   support\n",
      "\n",
      "           0       0.71      0.85      0.77     16063\n",
      "           1       0.80      0.64      0.71     15299\n",
      "\n",
      "    accuracy                           0.75     31362\n",
      "   macro avg       0.76      0.74      0.74     31362\n",
      "weighted avg       0.75      0.75      0.74     31362\n",
      "\n",
      "Realizado en 202.432s\n"
     ]
    }
   ],
   "source": [
    "svm_pipe_best = Pipeline(steps=[('pca', PCA(100)),\n",
    "                                ('svm', SVC(random_state=123, \n",
    "                                            C=1, kernel='rbf', \n",
    "                                            gamma='scale'))])\n",
    "fn.clf_metrics(svm_pipe_best, X_train, y_train, X_test, y_test)"
   ]
  },
  {
   "cell_type": "markdown",
   "metadata": {},
   "source": [
    "## 6.3 Logistic Regression"
   ]
  },
  {
   "cell_type": "markdown",
   "metadata": {},
   "source": [
    "# Logistic Regression\n",
    "log = LogisticRegression(random_state=123)\n",
    "param_grid_log = {'C': [.5, .7, 1, 1.5, 2],\n",
    "                  'penalty': ['l2', 'l1', 'elasticnet']}\n",
    "grid_log = GridSearchCV(log, param_grid_log, n_jobs=-1, cv=2)\n",
    "fn.clf_metrics(grid_log, X_train, y_train, X_test, y_test)"
   ]
  },
  {
   "cell_type": "code",
   "execution_count": 17,
   "metadata": {},
   "outputs": [
    {
     "name": "stdout",
     "output_type": "stream",
     "text": [
      "ROC_Score:\n",
      "0.686\n",
      "Confusion_Matrix:\n",
      "[[12722  3341]\n",
      " [ 6434  8865]]\n",
      "Classification_Report:\n",
      "              precision    recall  f1-score   support\n",
      "\n",
      "           0       0.66      0.79      0.72     16063\n",
      "           1       0.73      0.58      0.64     15299\n",
      "\n",
      "    accuracy                           0.69     31362\n",
      "   macro avg       0.70      0.69      0.68     31362\n",
      "weighted avg       0.69      0.69      0.68     31362\n",
      "\n",
      "Realizado en 21.065s\n"
     ]
    }
   ],
   "source": [
    "log_pipe_best = Pipeline(steps=[('pca', PCA(100)),\n",
    "                                ('log', LogisticRegression(random_state=123,\n",
    "                                                          C=1, penalty='l2'))])\n",
    "fn.clf_metrics(log_pipe_best, X_train, y_train, X_test, y_test)"
   ]
  },
  {
   "cell_type": "markdown",
   "metadata": {},
   "source": [
    "## 6.4 Naive Bayes"
   ]
  },
  {
   "cell_type": "markdown",
   "metadata": {},
   "source": [
    "naive_bayes = BernoulliNB()\n",
    "param_grid_nb = {'alpha': [.2,.4,.6, 1], 'fit_prior':[True, False]}\n",
    "grid_nb = GridSearchCV(naive_bayes, param_grid_nb, cv=strat)\n",
    "fn.clf_metrics(grid_nb, X_train, y_train, X_test, y_test)"
   ]
  },
  {
   "cell_type": "code",
   "execution_count": 18,
   "metadata": {},
   "outputs": [
    {
     "name": "stdout",
     "output_type": "stream",
     "text": [
      "ROC_Score:\n",
      "0.789\n",
      "Confusion_Matrix:\n",
      "[[13098  2965]\n",
      " [ 3621 11678]]\n",
      "Classification_Report:\n",
      "              precision    recall  f1-score   support\n",
      "\n",
      "           0       0.78      0.82      0.80     16063\n",
      "           1       0.80      0.76      0.78     15299\n",
      "\n",
      "    accuracy                           0.79     31362\n",
      "   macro avg       0.79      0.79      0.79     31362\n",
      "weighted avg       0.79      0.79      0.79     31362\n",
      "\n",
      "Realizado en 16.448s\n"
     ]
    }
   ],
   "source": [
    "nb_best = BernoulliNB(alpha=1, fit_prior=True)\n",
    "fn.clf_metrics(nb_best, X_train, y_train, X_test, y_test)"
   ]
  },
  {
   "cell_type": "markdown",
   "metadata": {},
   "source": [
    "## 6.5 Red Neuronal"
   ]
  },
  {
   "cell_type": "markdown",
   "metadata": {},
   "source": [
    "En los análisis preliminares, se probó un conjunto de arquitecturas secuenciales distintas. Entre los modelos utilizdos, se probaron: 1 capa oculta, 3 capas ocultas, número de neuronas de la primera capa y segunda capa valores oscilantes entre 5 y 100, y valores entre .01 y .00001 de penalización. Por resultados en la muestra de validación y parsimonia, finalmente se escoge quedarse con la siguiente arquitectura:"
   ]
  },
  {
   "cell_type": "code",
   "execution_count": 19,
   "metadata": {},
   "outputs": [
    {
     "name": "stdout",
     "output_type": "stream",
     "text": [
      "Model: \"sequential\"\n",
      "_________________________________________________________________\n",
      "Layer (type)                 Output Shape              Param #   \n",
      "=================================================================\n",
      "Primera_capa (Dense)         (None, 20)                182240    \n",
      "_________________________________________________________________\n",
      "Segunda_capa (Dense)         (None, 12)                252       \n",
      "_________________________________________________________________\n",
      "output (Dense)               (None, 1)                 13        \n",
      "=================================================================\n",
      "Total params: 182,505\n",
      "Trainable params: 182,505\n",
      "Non-trainable params: 0\n",
      "_________________________________________________________________\n"
     ]
    }
   ],
   "source": [
    "# Norma de regularización con lambda=0.01\n",
    "ridge_regularizer = l2(0.0005)\n",
    "\n",
    "\n",
    "# Instanciamos la Red Neuronal\n",
    "input_dim = (X_train.shape[1],)\n",
    "model = Sequential()\n",
    "model.add(Dense(20, activation='relu',\n",
    "                kernel_regularizer = ridge_regularizer,\n",
    "                use_bias=True, \n",
    "                input_shape=input_dim,\n",
    "                name='Primera_capa'))\n",
    "\n",
    "model.add(Dense(12, activation='relu', \n",
    "                kernel_regularizer = ridge_regularizer,\n",
    "                use_bias=True, \n",
    "                name='Segunda_capa'))\n",
    "\n",
    "model.add(Dense(1, activation='sigmoid', use_bias=True, name='output'))\n",
    "model.compile(optimizer='rmsprop', loss='binary_crossentropy', metrics=['accuracy'])\n",
    "model.summary()"
   ]
  },
  {
   "cell_type": "code",
   "execution_count": 20,
   "metadata": {},
   "outputs": [
    {
     "name": "stdout",
     "output_type": "stream",
     "text": [
      "WARNING:tensorflow:Falling back from v2 loop because of error: Failed to find data adapter that can handle input: <class 'pandas.core.frame.DataFrame'>, <class 'NoneType'>\n",
      "Train on 23549 samples, validate on 31362 samples\n",
      "Epoch 1/60\n",
      "23549/23549 [==============================] - 7s 287us/sample - loss: 0.6730 - accuracy: 0.6911 - val_loss: 0.6248 - val_accuracy: 0.7539\n",
      "Epoch 2/60\n",
      "23549/23549 [==============================] - 6s 272us/sample - loss: 0.5948 - accuracy: 0.7520 - val_loss: 0.5579 - val_accuracy: 0.7638\n",
      "Epoch 3/60\n",
      "23549/23549 [==============================] - 4s 149us/sample - loss: 0.5410 - accuracy: 0.7673 - val_loss: 0.5216 - val_accuracy: 0.7760\n",
      "Epoch 4/60\n",
      "23549/23549 [==============================] - 4s 172us/sample - loss: 0.5133 - accuracy: 0.7782 - val_loss: 0.5059 - val_accuracy: 0.7831\n",
      "Epoch 5/60\n",
      "23549/23549 [==============================] - 5s 219us/sample - loss: 0.4992 - accuracy: 0.7870 - val_loss: 0.4977 - val_accuracy: 0.7884\n",
      "Epoch 6/60\n",
      "23549/23549 [==============================] - 4s 165us/sample - loss: 0.4895 - accuracy: 0.7933 - val_loss: 0.4918 - val_accuracy: 0.7925\n",
      "Epoch 7/60\n",
      "23549/23549 [==============================] - 5s 206us/sample - loss: 0.4822 - accuracy: 0.7979 - val_loss: 0.4872 - val_accuracy: 0.7962\n",
      "Epoch 8/60\n",
      "23549/23549 [==============================] - 4s 167us/sample - loss: 0.4754 - accuracy: 0.8030 - val_loss: 0.4839 - val_accuracy: 0.7990\n",
      "Epoch 9/60\n",
      "23549/23549 [==============================] - 4s 157us/sample - loss: 0.4702 - accuracy: 0.8079 - val_loss: 0.4806 - val_accuracy: 0.8009\n",
      "Epoch 10/60\n",
      "23549/23549 [==============================] - 3s 135us/sample - loss: 0.4638 - accuracy: 0.8102 - val_loss: 0.4757 - val_accuracy: 0.8039\n",
      "Epoch 11/60\n",
      "23549/23549 [==============================] - 4s 174us/sample - loss: 0.4588 - accuracy: 0.8140 - val_loss: 0.4717 - val_accuracy: 0.8067\n",
      "Epoch 12/60\n",
      "23549/23549 [==============================] - 4s 182us/sample - loss: 0.4531 - accuracy: 0.8166 - val_loss: 0.4678 - val_accuracy: 0.8091\n",
      "Epoch 13/60\n",
      "23549/23549 [==============================] - 5s 196us/sample - loss: 0.4474 - accuracy: 0.8207 - val_loss: 0.4640 - val_accuracy: 0.8120\n",
      "Epoch 14/60\n",
      "23549/23549 [==============================] - 3s 135us/sample - loss: 0.4416 - accuracy: 0.8229 - val_loss: 0.4615 - val_accuracy: 0.8132\n",
      "Epoch 15/60\n",
      "23549/23549 [==============================] - 3s 138us/sample - loss: 0.4358 - accuracy: 0.8258 - val_loss: 0.4563 - val_accuracy: 0.8179\n",
      "Epoch 16/60\n",
      "23549/23549 [==============================] - 4s 181us/sample - loss: 0.4292 - accuracy: 0.8298 - val_loss: 0.4532 - val_accuracy: 0.8202\n",
      "Epoch 17/60\n",
      "23549/23549 [==============================] - 4s 155us/sample - loss: 0.4234 - accuracy: 0.8336 - val_loss: 0.4478 - val_accuracy: 0.8245\n",
      "Epoch 18/60\n",
      "23549/23549 [==============================] - 4s 177us/sample - loss: 0.4168 - accuracy: 0.8387 - val_loss: 0.4435 - val_accuracy: 0.8269\n",
      "Epoch 19/60\n",
      "23549/23549 [==============================] - 3s 141us/sample - loss: 0.4094 - accuracy: 0.8435 - val_loss: 0.4393 - val_accuracy: 0.8292\n",
      "Epoch 20/60\n",
      "23549/23549 [==============================] - 3s 145us/sample - loss: 0.4018 - accuracy: 0.8464 - val_loss: 0.4356 - val_accuracy: 0.8338\n",
      "Epoch 21/60\n",
      "23549/23549 [==============================] - 4s 169us/sample - loss: 0.3948 - accuracy: 0.8524 - val_loss: 0.4296 - val_accuracy: 0.8376\n",
      "Epoch 22/60\n",
      "23549/23549 [==============================] - 3s 131us/sample - loss: 0.3870 - accuracy: 0.8564 - val_loss: 0.4251 - val_accuracy: 0.8406\n",
      "Epoch 23/60\n",
      "23549/23549 [==============================] - 3s 129us/sample - loss: 0.3796 - accuracy: 0.8615 - val_loss: 0.4209 - val_accuracy: 0.8451\n",
      "Epoch 24/60\n",
      "23549/23549 [==============================] - 3s 124us/sample - loss: 0.3713 - accuracy: 0.8653 - val_loss: 0.4174 - val_accuracy: 0.8477\n",
      "Epoch 25/60\n",
      "23549/23549 [==============================] - 4s 172us/sample - loss: 0.3628 - accuracy: 0.8730 - val_loss: 0.4122 - val_accuracy: 0.8514\n",
      "Epoch 26/60\n",
      "23549/23549 [==============================] - 5s 191us/sample - loss: 0.3550 - accuracy: 0.8763 - val_loss: 0.4078 - val_accuracy: 0.8555\n",
      "Epoch 27/60\n",
      "23549/23549 [==============================] - 5s 194us/sample - loss: 0.3475 - accuracy: 0.8809 - val_loss: 0.4057 - val_accuracy: 0.8565\n",
      "Epoch 28/60\n",
      "23549/23549 [==============================] - 4s 161us/sample - loss: 0.3387 - accuracy: 0.8868 - val_loss: 0.4006 - val_accuracy: 0.8617\n",
      "Epoch 29/60\n",
      "23549/23549 [==============================] - 4s 177us/sample - loss: 0.3309 - accuracy: 0.8918 - val_loss: 0.3975 - val_accuracy: 0.8645\n",
      "Epoch 30/60\n",
      "23549/23549 [==============================] - 4s 186us/sample - loss: 0.3227 - accuracy: 0.8973 - val_loss: 0.3955 - val_accuracy: 0.8663\n",
      "Epoch 31/60\n",
      "23549/23549 [==============================] - 5s 193us/sample - loss: 0.3157 - accuracy: 0.9006 - val_loss: 0.3907 - val_accuracy: 0.8703\n",
      "Epoch 32/60\n",
      "23549/23549 [==============================] - 5s 197us/sample - loss: 0.3079 - accuracy: 0.9046 - val_loss: 0.3892 - val_accuracy: 0.8713\n",
      "Epoch 33/60\n",
      "23549/23549 [==============================] - 3s 144us/sample - loss: 0.3009 - accuracy: 0.9104 - val_loss: 0.3867 - val_accuracy: 0.8740\n",
      "Epoch 34/60\n",
      "23549/23549 [==============================] - 3s 146us/sample - loss: 0.2932 - accuracy: 0.9130 - val_loss: 0.3837 - val_accuracy: 0.8768\n",
      "Epoch 35/60\n",
      "23549/23549 [==============================] - 4s 161us/sample - loss: 0.2874 - accuracy: 0.9166 - val_loss: 0.3810 - val_accuracy: 0.8779\n",
      "Epoch 36/60\n",
      "23549/23549 [==============================] - 5s 196us/sample - loss: 0.2800 - accuracy: 0.9213 - val_loss: 0.3810 - val_accuracy: 0.8816\n",
      "Epoch 37/60\n",
      "23549/23549 [==============================] - 4s 177us/sample - loss: 0.2737 - accuracy: 0.9240 - val_loss: 0.3765 - val_accuracy: 0.8829\n",
      "Epoch 38/60\n",
      "23549/23549 [==============================] - 4s 149us/sample - loss: 0.2678 - accuracy: 0.9270 - val_loss: 0.3802 - val_accuracy: 0.8804\n",
      "Epoch 39/60\n",
      "23549/23549 [==============================] - 3s 134us/sample - loss: 0.2618 - accuracy: 0.9305 - val_loss: 0.3804 - val_accuracy: 0.8811\n",
      "Epoch 40/60\n",
      "23549/23549 [==============================] - 3s 149us/sample - loss: 0.2553 - accuracy: 0.9334 - val_loss: 0.3776 - val_accuracy: 0.8862\n",
      "Epoch 41/60\n",
      "23549/23549 [==============================] - 4s 154us/sample - loss: 0.2506 - accuracy: 0.9352 - val_loss: 0.3764 - val_accuracy: 0.8866\n",
      "Epoch 42/60\n",
      "23549/23549 [==============================] - 3s 147us/sample - loss: 0.2451 - accuracy: 0.9385 - val_loss: 0.3702 - val_accuracy: 0.8923\n",
      "Epoch 43/60\n",
      "23549/23549 [==============================] - 4s 167us/sample - loss: 0.2397 - accuracy: 0.9416 - val_loss: 0.3714 - val_accuracy: 0.8917\n",
      "Epoch 44/60\n",
      "23549/23549 [==============================] - 5s 191us/sample - loss: 0.2352 - accuracy: 0.9444 - val_loss: 0.3704 - val_accuracy: 0.8929\n",
      "Epoch 45/60\n",
      "23549/23549 [==============================] - 4s 184us/sample - loss: 0.2307 - accuracy: 0.9456 - val_loss: 0.3677 - val_accuracy: 0.8953\n",
      "Epoch 46/60\n",
      "23549/23549 [==============================] - 3s 134us/sample - loss: 0.2256 - accuracy: 0.9476 - val_loss: 0.3661 - val_accuracy: 0.8959\n",
      "Epoch 47/60\n",
      "23549/23549 [==============================] - 4s 188us/sample - loss: 0.2222 - accuracy: 0.9487 - val_loss: 0.3677 - val_accuracy: 0.8967\n",
      "Epoch 48/60\n",
      "23549/23549 [==============================] - 6s 264us/sample - loss: 0.2179 - accuracy: 0.9518 - val_loss: 0.3681 - val_accuracy: 0.8981\n",
      "Epoch 49/60\n",
      "23549/23549 [==============================] - 4s 191us/sample - loss: 0.2140 - accuracy: 0.9526 - val_loss: 0.3665 - val_accuracy: 0.8986\n",
      "Epoch 50/60\n",
      "23549/23549 [==============================] - 4s 179us/sample - loss: 0.2096 - accuracy: 0.9563 - val_loss: 0.3667 - val_accuracy: 0.8999\n",
      "Epoch 51/60\n",
      "23549/23549 [==============================] - 4s 166us/sample - loss: 0.2055 - accuracy: 0.9569 - val_loss: 0.3672 - val_accuracy: 0.9012\n",
      "Epoch 52/60\n",
      "23549/23549 [==============================] - 4s 177us/sample - loss: 0.2036 - accuracy: 0.9580 - val_loss: 0.3676 - val_accuracy: 0.9023\n",
      "Epoch 53/60\n",
      "23549/23549 [==============================] - 5s 201us/sample - loss: 0.1998 - accuracy: 0.9594 - val_loss: 0.3678 - val_accuracy: 0.9013\n",
      "Epoch 54/60\n",
      "23549/23549 [==============================] - 4s 159us/sample - loss: 0.1957 - accuracy: 0.9616 - val_loss: 0.3667 - val_accuracy: 0.9022\n",
      "Epoch 55/60\n",
      "23549/23549 [==============================] - 5s 200us/sample - loss: 0.1937 - accuracy: 0.9623 - val_loss: 0.3660 - val_accuracy: 0.9039\n",
      "Epoch 56/60\n",
      "23549/23549 [==============================] - 5s 201us/sample - loss: 0.1908 - accuracy: 0.9634 - val_loss: 0.3650 - val_accuracy: 0.9049\n",
      "Epoch 57/60\n",
      "23549/23549 [==============================] - 5s 203us/sample - loss: 0.1874 - accuracy: 0.9640 - val_loss: 0.3664 - val_accuracy: 0.9056\n",
      "Epoch 58/60\n",
      "23549/23549 [==============================] - 6s 248us/sample - loss: 0.1854 - accuracy: 0.9639 - val_loss: 0.3693 - val_accuracy: 0.9045\n",
      "Epoch 59/60\n",
      "23549/23549 [==============================] - 6s 244us/sample - loss: 0.1833 - accuracy: 0.9663 - val_loss: 0.3688 - val_accuracy: 0.9052\n",
      "Epoch 60/60\n",
      "23549/23549 [==============================] - 5s 208us/sample - loss: 0.1811 - accuracy: 0.9662 - val_loss: 0.3684 - val_accuracy: 0.9059\n"
     ]
    },
    {
     "data": {
      "text/plain": [
       "<tensorflow.python.keras.callbacks.History at 0x1a4f5e29d0>"
      ]
     },
     "execution_count": 20,
     "metadata": {},
     "output_type": "execute_result"
    }
   ],
   "source": [
    "# Fit del modelo\n",
    "model.fit(x=X_train, y=y_train, batch_size=512, epochs=60, validation_data=(X_test, y_test))"
   ]
  },
  {
   "cell_type": "code",
   "execution_count": 21,
   "metadata": {},
   "outputs": [
    {
     "name": "stdout",
     "output_type": "stream",
     "text": [
      "WARNING:tensorflow:Falling back from v2 loop because of error: Failed to find data adapter that can handle input: <class 'pandas.core.frame.DataFrame'>, <class 'NoneType'>\n",
      "ROC_Score:\n",
      "0.906\n",
      "Confusion_Matrix:\n",
      "[[14643  1420]\n",
      " [ 1530 13769]]\n",
      "Classification_Report:\n",
      "              precision    recall  f1-score   support\n",
      "\n",
      "           0       0.91      0.91      0.91     16063\n",
      "           1       0.91      0.90      0.90     15299\n",
      "\n",
      "    accuracy                           0.91     31362\n",
      "   macro avg       0.91      0.91      0.91     31362\n",
      "weighted avg       0.91      0.91      0.91     31362\n",
      "\n"
     ]
    }
   ],
   "source": [
    "# Predecir la muestra de validación\n",
    "y_hat = model.predict(X_test)\n",
    "y_hat = [1 if i >= .5 else 0 for i in y_hat]\n",
    "# Métricas\n",
    "metrics = {'ROC_Score': roc_auc_score(y_test, y_hat).round(3),\n",
    "           'Confusion_Matrix': confusion_matrix(y_test, y_hat).round(3),\n",
    "           'Classification_Report': classification_report(y_test, y_hat)}\n",
    "for key, value in metrics.items():\n",
    "    print('{}:\\n{}'.format(key, value))"
   ]
  },
  {
   "cell_type": "markdown",
   "metadata": {},
   "source": [
    "## 6.6 Comparación métricas modelos"
   ]
  },
  {
   "cell_type": "markdown",
   "metadata": {},
   "source": [
    "Al comparar resultados en las métricas, se observa que el modelo de red neuronal secuencial supera en todas las métricas para ambas clases. La SNN obtiene un sólido .91 de f1 ponderado, siendo muy balanceado su desempeño por clase, con .91 para la clase 0 y .90 para la clase 1. En términos de f1 ponderado, le sigue en desempeño más abajo Naive Bayes, con un .79, obteniendose de igualmente resultados balanceados en f1 por clase: .80 para la clase 0 y .72 para la clase 1. Estos dos modelos serán los enviados a evaluación.\n",
    "\n",
    "Más abajo se posicionan XGBoost, SVM, LogisticRegression, con f1 ponderado de .74, .74, .68, respectivamente "
   ]
  },
  {
   "cell_type": "code",
   "execution_count": 23,
   "metadata": {},
   "outputs": [
    {
     "data": {
      "image/png": "[encoded data removed]",
      "text/plain": [
       "<Figure size 720x432 with 5 Axes>"
      ]
     },
     "metadata": {},
     "output_type": "display_data"
    }
   ],
   "source": [
    "estimators = [('XGBoost', xgb_pipe_best), \n",
    "              ('Support Vector Machine', svm_pipe_best),\n",
    "              ('Logistic Regression', log_pipe_best),\n",
    "              ('Naive Bayes', nb_best),\n",
    "              ('Neuronal Network', model)]\n",
    "\n",
    "fn.compare_classifiers(estimators, X_test.values, y_test, n_cols=2)"
   ]
  },
  {
   "cell_type": "markdown",
   "metadata": {},
   "source": [
    "# 7. Serialización"
   ]
  },
  {
   "cell_type": "markdown",
   "metadata": {},
   "source": [
    "Para la serialización de un modelo implementado en Keras se necesitan desarrollar pasos adicionales. Primero, se debe de convertir la arquitecura de la red neuronal deseada a una función, la cual será utilizada por el objeto `KerasClassifier`. \n",
    "Cabe mencionar que al no poder variar la cantidad de neuronas de entrada igual al número de columnas del dataframe o array de entrenamiento, se fijó en 9111, que es la dimensiones de las columnas después de procesar la base completa con 'CountVectorizer', a utilizarse durante el entrenamiento de los modelos a enviar."
   ]
  },
  {
   "cell_type": "code",
   "execution_count": 34,
   "metadata": {},
   "outputs": [],
   "source": [
    "# Función para crear modelos de Keras, requerido para KerasClassifier\n",
    "def keras_model():\n",
    "    \n",
    "    ridge_regularizer = l2(0.0005)\n",
    "    model = Sequential()\n",
    "    \n",
    "    model.add(Dense(20, activation='relu',\n",
    "                kernel_regularizer = ridge_regularizer,\n",
    "                use_bias=True, \n",
    "                input_shape=(9111, ),\n",
    "                name='Primera_capa'))\n",
    "\n",
    "    model.add(Dense(12, activation='relu', \n",
    "                kernel_regularizer = ridge_regularizer,\n",
    "                use_bias=True, \n",
    "                name='Segunda_capa'))\n",
    "\n",
    "    model.add(Dense(1, activation='sigmoid', use_bias=True, name='output'))\n",
    "\n",
    "    model.compile(optimizer='rmsprop', loss='binary_crossentropy', metrics=['accuracy'])\n",
    "    \n",
    "    return model"
   ]
  },
  {
   "cell_type": "code",
   "execution_count": 35,
   "metadata": {},
   "outputs": [],
   "source": [
    "# Pipeline red neuronal\n",
    "nn_pipe = Pipeline(steps=[\n",
    "                        ('vectorizer', \n",
    "                             CountVectorizer(\n",
    "                                stop_words=stopwords.words('english') + ['http', 'day'], \n",
    "                                preprocessor=fn.text_preprocessor, min_df=4)),\n",
    "                        ('dense_transformer', FunctionTransformer(fn.to_dense, accept_sparse=True)),\n",
    "                        ('select_features', SelectKBest(k=9111)),\n",
    "                        ('neural_network', \n",
    "                            KerasClassifier(\n",
    "                                build_fn=keras_model, \n",
    "                                batch_size=512, epochs=70, verbose=0))])"
   ]
  },
  {
   "cell_type": "code",
   "execution_count": 36,
   "metadata": {},
   "outputs": [],
   "source": [
    "# Pipeline Naive Bayes\n",
    "nb_pipe = Pipeline(steps=[\n",
    "                        ('vectorizer', \n",
    "                             CountVectorizer(\n",
    "                                stop_words=stopwords.words('english') + ['http', 'day'], \n",
    "                                preprocessor=fn.text_preprocessor, min_df=4)),\n",
    "                        ('naive_bayes', \n",
    "                            BernoulliNB(alpha=1, fit_prior=True))])"
   ]
  },
  {
   "cell_type": "code",
   "execution_count": 37,
   "metadata": {},
   "outputs": [],
   "source": [
    "xtrain = df[df['sample'] == 'train']['content']\n",
    "ytrain = df[df['sample'] == 'train']['sentiment']\n",
    "xtest = df[df['sample'] == 'test']['content']\n",
    "ytest = df[df['sample'] == 'test']['sentiment']"
   ]
  },
  {
   "cell_type": "markdown",
   "metadata": {},
   "source": [
    "__IMPORTANTE__: Al intentar serializar un modelo entrenado con `KerasClassifier` el proceso arroja un error asociado a este objeto. Un _hack_ para poder sobrellevar este problema planteado en stackoverflow, es guardar el objeto de `KerasClassifier` separadamente, para luego borrarlo del pipeline. De esta forma se guarda en pickle sin el objeto de Keras, pero al momento de importar el pipeline para utilizarlo, se importa el modelo de `KerasClassifier`  guardado en otro archivo dentro del pipeline importado, como se explica en los siguientes pasos:"
   ]
  },
  {
   "cell_type": "code",
   "execution_count": 40,
   "metadata": {},
   "outputs": [
    {
     "name": "stderr",
     "output_type": "stream",
     "text": [
      "/Users/fernando/miniconda3/lib/python3.7/site-packages/sklearn/feature_extraction/text.py:385: UserWarning: Your stop_words may be inconsistent with your preprocessing. Tokenizing the stop words generated tokens ['doe', 'ha', 'wa'] not in stop_words.\n",
      "  'stop_words.' % sorted(inconsistent))\n",
      "/Users/fernando/miniconda3/lib/python3.7/site-packages/sklearn/feature_extraction/text.py:385: UserWarning: Your stop_words may be inconsistent with your preprocessing. Tokenizing the stop words generated tokens ['doe', 'ha', 'wa'] not in stop_words.\n",
      "  'stop_words.' % sorted(inconsistent))\n"
     ]
    },
    {
     "name": "stdout",
     "output_type": "stream",
     "text": [
      "CPU times: user 16min 38s, sys: 7min 1s, total: 23min 40s\n",
      "Wall time: 4min 51s\n"
     ]
    }
   ],
   "source": [
    "%%time\n",
    "# Entrenamiento de los pipeline con el dataframe completo\n",
    "X_train_complete = df['content']\n",
    "y_train_complete = df['sentiment']\n",
    "\n",
    "# Entrenar modelo de Naive Bayes\n",
    "nb_pipe.fit(X_train_complete, y_train_complete)\n",
    "\n",
    "\n",
    "# Entrenar el pipeline de KerasClassifier\n",
    "nn_pipe.fit(X_train_complete, y_train_complete)\n",
    "# Guardar el modelo entrenado de KerasClassifier\n",
    "nn_pipe.named_steps['neural_network'].model.save('keras_model.h5')\n",
    "# Borrar modelo del pipeline \n",
    "nn_pipe.named_steps['neural_network'].model = None\n",
    "\n",
    "# Diccionario con pipelines entrenados\n",
    "clf_models = {'neural_network': nn_pipe, 'naive_bayes': nb_pipe}\n",
    "# Guardar diccionario con pickle\n",
    "pickle.dump(clf_models, open('modelos_prueba1.sav', 'wb'))"
   ]
  },
  {
   "cell_type": "markdown",
   "metadata": {},
   "source": [
    "__IMPORTANTE__: Para poder implementar el modelo de Neural Network, se debe seguir la siguiente estructura de importación:"
   ]
  },
  {
   "cell_type": "code",
   "execution_count": 32,
   "metadata": {},
   "outputs": [],
   "source": [
    "# Importante: importar load_model desde Keras \n",
    "farom tensorflow.keras.models import load_model\n",
    "# Lectura de archivo guardado con pickle del compañero\n",
    "dc = pickle.load(open('modelos_prueba1.sav', 'rb'))\n",
    "nn_imp = dc['neural_network']\n",
    "# Agregar modelo guardado de KerasClassifier\n",
    "nn_imp.named_steps['neural_network'].model = load_model('keras_model.h5')"
   ]
  }
 ],
 "metadata": {
  "kernelspec": {
   "display_name": "Python 3",
   "language": "python",
   "name": "python3"
  },
  "language_info": {
   "codemirror_mode": {
    "name": "ipython",
    "version": 3
   },
   "file_extension": ".py",
   "mimetype": "text/x-python",
   "name": "python",
   "nbconvert_exporter": "python",
   "pygments_lexer": "ipython3",
   "version": "3.7.4"
  }
 },
 "nbformat": 4,
 "nbformat_minor": 4
}
